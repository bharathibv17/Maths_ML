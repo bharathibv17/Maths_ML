{
 "cells": [
  {
   "cell_type": "code",
   "execution_count": 1,
   "id": "c13de937",
   "metadata": {},
   "outputs": [],
   "source": [
    "import numpy as np"
   ]
  },
  {
   "cell_type": "markdown",
   "id": "eda84c53",
   "metadata": {},
   "source": [
    "### Matrix Addition"
   ]
  },
  {
   "cell_type": "markdown",
   "id": "dc9d56ee",
   "metadata": {},
   "source": [
    "#### Two matrices can be added only if they have the same shape"
   ]
  },
  {
   "cell_type": "code",
   "execution_count": 2,
   "id": "e9886f5d",
   "metadata": {},
   "outputs": [
    {
     "name": "stdout",
     "output_type": "stream",
     "text": [
      "[[2 3]\n",
      " [4 5]]\n",
      "[[6 7]\n",
      " [8 9]]\n"
     ]
    }
   ],
   "source": [
    "#creating two matrices \n",
    "\n",
    "a = np.array([[2,3],[4,5]])\n",
    "b = np.array([[6,7],[8,9]])\n",
    "\n",
    "print(a)\n",
    "print(b)"
   ]
  },
  {
   "cell_type": "code",
   "execution_count": 3,
   "id": "8f87dd67",
   "metadata": {},
   "outputs": [
    {
     "name": "stdout",
     "output_type": "stream",
     "text": [
      "(2, 2)\n",
      "(2, 2)\n"
     ]
    }
   ],
   "source": [
    "print(a.shape)\n",
    "print(b.shape)"
   ]
  },
  {
   "cell_type": "markdown",
   "id": "eeef989e",
   "metadata": {},
   "source": [
    "#### Adding two matrices"
   ]
  },
  {
   "cell_type": "code",
   "execution_count": 4,
   "id": "880515ec",
   "metadata": {},
   "outputs": [
    {
     "name": "stdout",
     "output_type": "stream",
     "text": [
      "[[ 8 10]\n",
      " [12 14]]\n"
     ]
    }
   ],
   "source": [
    "sum = a + b\n",
    "print(sum)"
   ]
  },
  {
   "cell_type": "code",
   "execution_count": 7,
   "id": "72b38c92",
   "metadata": {},
   "outputs": [],
   "source": [
    "# create two matrices with random values\n",
    "matrix_1 = np.random.randint(10,size=(3,3))\n",
    "matrix_2 = np.random.randint(20,size=(3,3))"
   ]
  },
  {
   "cell_type": "code",
   "execution_count": 8,
   "id": "e4fd8456",
   "metadata": {},
   "outputs": [
    {
     "name": "stdout",
     "output_type": "stream",
     "text": [
      "[[4 7 6]\n",
      " [9 7 7]\n",
      " [3 7 1]]\n"
     ]
    }
   ],
   "source": [
    "print(matrix_1)"
   ]
  },
  {
   "cell_type": "code",
   "execution_count": 9,
   "id": "fa936fc0",
   "metadata": {},
   "outputs": [
    {
     "name": "stdout",
     "output_type": "stream",
     "text": [
      "[[ 6 13  6]\n",
      " [ 7 17 16]\n",
      " [11 12 10]]\n"
     ]
    }
   ],
   "source": [
    "print(matrix_2)"
   ]
  },
  {
   "cell_type": "code",
   "execution_count": 10,
   "id": "b67c8940",
   "metadata": {},
   "outputs": [],
   "source": [
    "sum = np.add(matrix_1,matrix_2)"
   ]
  },
  {
   "cell_type": "code",
   "execution_count": 11,
   "id": "5b426536",
   "metadata": {},
   "outputs": [
    {
     "name": "stdout",
     "output_type": "stream",
     "text": [
      "[[10 20 12]\n",
      " [16 24 23]\n",
      " [14 19 11]]\n"
     ]
    }
   ],
   "source": [
    "print(sum)"
   ]
  },
  {
   "cell_type": "code",
   "execution_count": 13,
   "id": "d23f2597",
   "metadata": {},
   "outputs": [],
   "source": [
    "# create two matrices with random values\n",
    "matrix_3 = np.random.randint(10,size=(3,3))\n",
    "matrix_4= np.random.randint(20,size=(3,4))"
   ]
  },
  {
   "cell_type": "code",
   "execution_count": 14,
   "id": "e549ac78",
   "metadata": {},
   "outputs": [
    {
     "ename": "ValueError",
     "evalue": "operands could not be broadcast together with shapes (3,3) (3,4) ",
     "output_type": "error",
     "traceback": [
      "\u001b[1;31m---------------------------------------------------------------------------\u001b[0m",
      "\u001b[1;31mValueError\u001b[0m                                Traceback (most recent call last)",
      "Cell \u001b[1;32mIn[14], line 1\u001b[0m\n\u001b[1;32m----> 1\u001b[0m sum_2 \u001b[38;5;241m=\u001b[39m \u001b[43mnp\u001b[49m\u001b[38;5;241;43m.\u001b[39;49m\u001b[43madd\u001b[49m\u001b[43m(\u001b[49m\u001b[43mmatrix_3\u001b[49m\u001b[43m,\u001b[49m\u001b[43mmatrix_4\u001b[49m\u001b[43m)\u001b[49m\n",
      "\u001b[1;31mValueError\u001b[0m: operands could not be broadcast together with shapes (3,3) (3,4) "
     ]
    }
   ],
   "source": [
    "sum_2 = np.add(matrix_3,matrix_4)"
   ]
  },
  {
   "cell_type": "markdown",
   "id": "908339b3",
   "metadata": {},
   "source": [
    "We get this error because the shape of matrix_3 and matrix_4 are different"
   ]
  },
  {
   "cell_type": "markdown",
   "id": "7b615573",
   "metadata": {},
   "source": [
    "### Matrix Subtraction"
   ]
  },
  {
   "cell_type": "code",
   "execution_count": 15,
   "id": "0afbb0cf",
   "metadata": {},
   "outputs": [
    {
     "name": "stdout",
     "output_type": "stream",
     "text": [
      "[[2 3]\n",
      " [4 5]]\n",
      "[[6 7]\n",
      " [8 9]]\n"
     ]
    }
   ],
   "source": [
    "#creating two matrices \n",
    "\n",
    "a = np.array([[2,3],[4,5]])\n",
    "b = np.array([[6,7],[8,9]])\n",
    "\n",
    "print(a)\n",
    "print(b)"
   ]
  },
  {
   "cell_type": "code",
   "execution_count": 16,
   "id": "1aee8d92",
   "metadata": {},
   "outputs": [],
   "source": [
    "difference = a - b"
   ]
  },
  {
   "cell_type": "code",
   "execution_count": 17,
   "id": "99e733fc",
   "metadata": {},
   "outputs": [
    {
     "name": "stdout",
     "output_type": "stream",
     "text": [
      "[[-4 -4]\n",
      " [-4 -4]]\n"
     ]
    }
   ],
   "source": [
    "print(difference)"
   ]
  },
  {
   "cell_type": "code",
   "execution_count": 18,
   "id": "4af47027",
   "metadata": {},
   "outputs": [],
   "source": [
    "# create two matrices with random values\n",
    "matrix_1 = np.random.randint(10,size=(3,3))\n",
    "matrix_2 = np.random.randint(20,size=(3,3))"
   ]
  },
  {
   "cell_type": "code",
   "execution_count": 19,
   "id": "7eb03696",
   "metadata": {},
   "outputs": [
    {
     "name": "stdout",
     "output_type": "stream",
     "text": [
      "[[7 4 8]\n",
      " [2 2 7]\n",
      " [2 4 4]]\n"
     ]
    }
   ],
   "source": [
    "print(matrix_1)"
   ]
  },
  {
   "cell_type": "code",
   "execution_count": 20,
   "id": "bf4f324d",
   "metadata": {},
   "outputs": [
    {
     "name": "stdout",
     "output_type": "stream",
     "text": [
      "[[15 14 12]\n",
      " [15 13 13]\n",
      " [18 17 13]]\n"
     ]
    }
   ],
   "source": [
    "print(matrix_2)"
   ]
  },
  {
   "cell_type": "code",
   "execution_count": 22,
   "id": "3085cdd7",
   "metadata": {},
   "outputs": [],
   "source": [
    "difference = np.subtract(matrix_1,matrix_2)"
   ]
  },
  {
   "cell_type": "code",
   "execution_count": 23,
   "id": "7cb06bab",
   "metadata": {},
   "outputs": [
    {
     "name": "stdout",
     "output_type": "stream",
     "text": [
      "[[ -8 -10  -4]\n",
      " [-13 -11  -6]\n",
      " [-16 -13  -9]]\n"
     ]
    }
   ],
   "source": [
    "print(difference)"
   ]
  },
  {
   "cell_type": "code",
   "execution_count": 24,
   "id": "18f52aff",
   "metadata": {},
   "outputs": [],
   "source": [
    "# create two matrices with random values\n",
    "matrix_3 = np.random.randint(10,size=(3,3))\n",
    "matrix_4= np.random.randint(20,size=(3,4))"
   ]
  },
  {
   "cell_type": "code",
   "execution_count": 25,
   "id": "2d4b787a",
   "metadata": {},
   "outputs": [
    {
     "ename": "ValueError",
     "evalue": "operands could not be broadcast together with shapes (3,3) (3,4) ",
     "output_type": "error",
     "traceback": [
      "\u001b[1;31m---------------------------------------------------------------------------\u001b[0m",
      "\u001b[1;31mValueError\u001b[0m                                Traceback (most recent call last)",
      "Cell \u001b[1;32mIn[25], line 1\u001b[0m\n\u001b[1;32m----> 1\u001b[0m difference \u001b[38;5;241m=\u001b[39m \u001b[43mnp\u001b[49m\u001b[38;5;241;43m.\u001b[39;49m\u001b[43msubtract\u001b[49m\u001b[43m(\u001b[49m\u001b[43mmatrix_3\u001b[49m\u001b[43m,\u001b[49m\u001b[43mmatrix_4\u001b[49m\u001b[43m)\u001b[49m\n",
      "\u001b[1;31mValueError\u001b[0m: operands could not be broadcast together with shapes (3,3) (3,4) "
     ]
    }
   ],
   "source": [
    "difference = np.subtract(matrix_3,matrix_4)"
   ]
  },
  {
   "cell_type": "markdown",
   "id": "85a7f0fd",
   "metadata": {},
   "source": [
    "### Multiplying a matrix by a scaler"
   ]
  },
  {
   "cell_type": "code",
   "execution_count": 26,
   "id": "e0b94c03",
   "metadata": {},
   "outputs": [
    {
     "name": "stdout",
     "output_type": "stream",
     "text": [
      "[[1 1 5 3]\n",
      " [9 7 0 4]\n",
      " [7 3 5 6]\n",
      " [0 3 5 0]]\n"
     ]
    }
   ],
   "source": [
    "x = 5\n",
    "y = np.random.randint(10,size=(4,4))\n",
    "\n",
    "print(y)"
   ]
  },
  {
   "cell_type": "code",
   "execution_count": 27,
   "id": "a38072be",
   "metadata": {},
   "outputs": [],
   "source": [
    "product = np.multiply(x,y)"
   ]
  },
  {
   "cell_type": "code",
   "execution_count": 28,
   "id": "a84440d0",
   "metadata": {},
   "outputs": [
    {
     "name": "stdout",
     "output_type": "stream",
     "text": [
      "[[ 5  5 25 15]\n",
      " [45 35  0 20]\n",
      " [35 15 25 30]\n",
      " [ 0 15 25  0]]\n"
     ]
    }
   ],
   "source": [
    "print(product)"
   ]
  },
  {
   "cell_type": "markdown",
   "id": "ba94c423",
   "metadata": {},
   "source": [
    "### Multiplying two matrices"
   ]
  },
  {
   "cell_type": "code",
   "execution_count": 29,
   "id": "71d462e0",
   "metadata": {},
   "outputs": [],
   "source": [
    "# create two matrices with random values\n",
    "matrix_1 = np.random.randint(5,size=(3,3))\n",
    "matrix_2 = np.random.randint(5,size=(3,4))"
   ]
  },
  {
   "cell_type": "code",
   "execution_count": 30,
   "id": "247932cb",
   "metadata": {},
   "outputs": [
    {
     "name": "stdout",
     "output_type": "stream",
     "text": [
      "[[1 0 2]\n",
      " [3 4 4]\n",
      " [0 3 1]]\n"
     ]
    }
   ],
   "source": [
    "print(matrix_1)"
   ]
  },
  {
   "cell_type": "code",
   "execution_count": 31,
   "id": "01ecf6af",
   "metadata": {},
   "outputs": [
    {
     "name": "stdout",
     "output_type": "stream",
     "text": [
      "[[3 3 2 3]\n",
      " [1 0 2 3]\n",
      " [4 0 4 3]]\n"
     ]
    }
   ],
   "source": [
    "print(matrix_2)"
   ]
  },
  {
   "cell_type": "code",
   "execution_count": 32,
   "id": "bd676098",
   "metadata": {},
   "outputs": [],
   "source": [
    "product = np.dot(matrix_1,matrix_2)"
   ]
  },
  {
   "cell_type": "code",
   "execution_count": 33,
   "id": "27c069a3",
   "metadata": {},
   "outputs": [
    {
     "name": "stdout",
     "output_type": "stream",
     "text": [
      "[[11  3 10  9]\n",
      " [29  9 30 33]\n",
      " [ 7  0 10 12]]\n"
     ]
    }
   ],
   "source": [
    "print(product)"
   ]
  },
  {
   "cell_type": "code",
   "execution_count": 34,
   "id": "56e7a3b1",
   "metadata": {},
   "outputs": [
    {
     "data": {
      "text/plain": [
       "(3, 4)"
      ]
     },
     "execution_count": 34,
     "metadata": {},
     "output_type": "execute_result"
    }
   ],
   "source": [
    "product.shape"
   ]
  },
  {
   "cell_type": "code",
   "execution_count": null,
   "id": "109eaae9",
   "metadata": {},
   "outputs": [],
   "source": []
  }
 ],
 "metadata": {
  "kernelspec": {
   "display_name": "Python 3 (ipykernel)",
   "language": "python",
   "name": "python3"
  },
  "language_info": {
   "codemirror_mode": {
    "name": "ipython",
    "version": 3
   },
   "file_extension": ".py",
   "mimetype": "text/x-python",
   "name": "python",
   "nbconvert_exporter": "python",
   "pygments_lexer": "ipython3",
   "version": "3.11.3"
  }
 },
 "nbformat": 4,
 "nbformat_minor": 5
}
