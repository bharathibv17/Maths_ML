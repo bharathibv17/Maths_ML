{
 "cells": [
  {
   "cell_type": "code",
   "execution_count": 1,
   "id": "3c2774dc",
   "metadata": {},
   "outputs": [],
   "source": [
    "import numpy as np"
   ]
  },
  {
   "cell_type": "markdown",
   "id": "a52c7c41",
   "metadata": {},
   "source": [
    "### Creating a matrix using numpy"
   ]
  },
  {
   "cell_type": "code",
   "execution_count": 2,
   "id": "5f214aec",
   "metadata": {},
   "outputs": [],
   "source": [
    "matrix_1 = np.array([[2,3],[6,7]])"
   ]
  },
  {
   "cell_type": "code",
   "execution_count": 3,
   "id": "a6ce5343",
   "metadata": {},
   "outputs": [
    {
     "name": "stdout",
     "output_type": "stream",
     "text": [
      "[[2 3]\n",
      " [6 7]]\n"
     ]
    }
   ],
   "source": [
    "print(matrix_1)"
   ]
  },
  {
   "cell_type": "markdown",
   "id": "5301e882",
   "metadata": {},
   "source": [
    "### Shape of matrix"
   ]
  },
  {
   "cell_type": "code",
   "execution_count": 4,
   "id": "7e2e473b",
   "metadata": {},
   "outputs": [
    {
     "data": {
      "text/plain": [
       "(2, 2)"
      ]
     },
     "execution_count": 4,
     "metadata": {},
     "output_type": "execute_result"
    }
   ],
   "source": [
    "matrix_1.shape"
   ]
  },
  {
   "cell_type": "code",
   "execution_count": 7,
   "id": "22cdb4c4",
   "metadata": {},
   "outputs": [
    {
     "name": "stdout",
     "output_type": "stream",
     "text": [
      "[[3 4 5]\n",
      " [1 5 9]\n",
      " [8 9 1]]\n"
     ]
    }
   ],
   "source": [
    "matrix_2 = np.array([[3,4,5],[1,5,9],[8,9,1]])\n",
    "print(matrix_2)"
   ]
  },
  {
   "cell_type": "code",
   "execution_count": 8,
   "id": "886a2410",
   "metadata": {},
   "outputs": [
    {
     "data": {
      "text/plain": [
       "(3, 3)"
      ]
     },
     "execution_count": 8,
     "metadata": {},
     "output_type": "execute_result"
    }
   ],
   "source": [
    "matrix_2.shape"
   ]
  },
  {
   "cell_type": "markdown",
   "id": "ec9243e8",
   "metadata": {},
   "source": [
    "### Creating matrices with Random Values"
   ]
  },
  {
   "cell_type": "code",
   "execution_count": 9,
   "id": "1e8bf0d2",
   "metadata": {},
   "outputs": [],
   "source": [
    "random_matrix = np.random.rand(3,3)"
   ]
  },
  {
   "cell_type": "code",
   "execution_count": 10,
   "id": "6573c83d",
   "metadata": {},
   "outputs": [
    {
     "name": "stdout",
     "output_type": "stream",
     "text": [
      "[[0.05748183 0.08044794 0.97775741]\n",
      " [0.13295604 0.97514394 0.14956645]\n",
      " [0.04295387 0.8304174  0.60200001]]\n"
     ]
    }
   ],
   "source": [
    "print(random_matrix)"
   ]
  },
  {
   "cell_type": "markdown",
   "id": "d58e6aa8",
   "metadata": {},
   "source": [
    "### Creating matrices with Random Integer"
   ]
  },
  {
   "cell_type": "code",
   "execution_count": 14,
   "id": "1896abda",
   "metadata": {},
   "outputs": [],
   "source": [
    "random_matrix1 = np.random.randint(100,size=(4,5))#100-->no's within 100 and size -->4 rows and 5 columns"
   ]
  },
  {
   "cell_type": "code",
   "execution_count": 16,
   "id": "dca97c8d",
   "metadata": {},
   "outputs": [
    {
     "name": "stdout",
     "output_type": "stream",
     "text": [
      "[[ 1 99 55 63 78]\n",
      " [53 81 14 85 94]\n",
      " [46 92 29 16 24]\n",
      " [95 80 57 12 14]]\n"
     ]
    }
   ],
   "source": [
    "print(random_matrix1)"
   ]
  },
  {
   "cell_type": "markdown",
   "id": "e509118b",
   "metadata": {},
   "source": [
    "### Creating matrices with all the values 1"
   ]
  },
  {
   "cell_type": "code",
   "execution_count": 17,
   "id": "e3524264",
   "metadata": {},
   "outputs": [
    {
     "name": "stdout",
     "output_type": "stream",
     "text": [
      "[[1. 1. 1.]\n",
      " [1. 1. 1.]]\n"
     ]
    }
   ],
   "source": [
    "matrix_3 = np.ones((2,3))\n",
    "print(matrix_3)"
   ]
  },
  {
   "cell_type": "code",
   "execution_count": 20,
   "id": "3f410303",
   "metadata": {},
   "outputs": [
    {
     "name": "stdout",
     "output_type": "stream",
     "text": [
      "[[1 1 1]\n",
      " [1 1 1]]\n"
     ]
    }
   ],
   "source": [
    "matrix_3 = np.ones((2,3),dtype=int) #all the value in integer, we should give dtype\n",
    "print(matrix_3)"
   ]
  },
  {
   "cell_type": "code",
   "execution_count": 21,
   "id": "96ecb73b",
   "metadata": {},
   "outputs": [
    {
     "name": "stdout",
     "output_type": "stream",
     "text": [
      "[[1 1 1 1 1 1 1 1 1 1]\n",
      " [1 1 1 1 1 1 1 1 1 1]\n",
      " [1 1 1 1 1 1 1 1 1 1]\n",
      " [1 1 1 1 1 1 1 1 1 1]\n",
      " [1 1 1 1 1 1 1 1 1 1]\n",
      " [1 1 1 1 1 1 1 1 1 1]\n",
      " [1 1 1 1 1 1 1 1 1 1]\n",
      " [1 1 1 1 1 1 1 1 1 1]\n",
      " [1 1 1 1 1 1 1 1 1 1]\n",
      " [1 1 1 1 1 1 1 1 1 1]]\n"
     ]
    }
   ],
   "source": [
    "matrix_4 = np.ones((10,10),dtype=int) #all the value in integer, we should give dtype\n",
    "print(matrix_4)"
   ]
  },
  {
   "cell_type": "markdown",
   "id": "d52548b2",
   "metadata": {},
   "source": [
    "### Creating matrix with Zero or Null matrix"
   ]
  },
  {
   "cell_type": "code",
   "execution_count": 22,
   "id": "0fcfa5ad",
   "metadata": {},
   "outputs": [
    {
     "name": "stdout",
     "output_type": "stream",
     "text": [
      "[[0. 0. 0. 0.]\n",
      " [0. 0. 0. 0.]\n",
      " [0. 0. 0. 0.]\n",
      " [0. 0. 0. 0.]]\n"
     ]
    }
   ],
   "source": [
    "null_matrix = np.zeros((4,4))\n",
    "print(null_matrix)"
   ]
  },
  {
   "cell_type": "code",
   "execution_count": 23,
   "id": "942fcd77",
   "metadata": {},
   "outputs": [
    {
     "name": "stdout",
     "output_type": "stream",
     "text": [
      "[[0 0 0 0]\n",
      " [0 0 0 0]\n",
      " [0 0 0 0]\n",
      " [0 0 0 0]]\n"
     ]
    }
   ],
   "source": [
    "null_matrix = np.zeros((4,4),dtype=int)\n",
    "print(null_matrix)"
   ]
  },
  {
   "cell_type": "markdown",
   "id": "8eecab88",
   "metadata": {},
   "source": [
    "# Creating Identity Matrix"
   ]
  },
  {
   "cell_type": "code",
   "execution_count": 24,
   "id": "988aac00",
   "metadata": {},
   "outputs": [
    {
     "name": "stdout",
     "output_type": "stream",
     "text": [
      "[[1. 0. 0.]\n",
      " [0. 1. 0.]\n",
      " [0. 0. 1.]]\n"
     ]
    }
   ],
   "source": [
    "identity_matrix = np.eye(3,3)\n",
    "print(identity_matrix)"
   ]
  },
  {
   "cell_type": "code",
   "execution_count": 25,
   "id": "a22e7152",
   "metadata": {},
   "outputs": [
    {
     "name": "stdout",
     "output_type": "stream",
     "text": [
      "[[1. 0. 0. 0. 0.]\n",
      " [0. 1. 0. 0. 0.]\n",
      " [0. 0. 1. 0. 0.]\n",
      " [0. 0. 0. 1. 0.]\n",
      " [0. 0. 0. 0. 1.]]\n"
     ]
    }
   ],
   "source": [
    "identity_matrix = np.eye(5,5)\n",
    "print(identity_matrix)"
   ]
  },
  {
   "cell_type": "markdown",
   "id": "585acf60",
   "metadata": {},
   "source": [
    "# Transpose of a matrix"
   ]
  },
  {
   "cell_type": "code",
   "execution_count": 26,
   "id": "e13d3cfc",
   "metadata": {},
   "outputs": [
    {
     "name": "stdout",
     "output_type": "stream",
     "text": [
      "[[19 61 11 72 20]\n",
      " [24 95  9 99 30]\n",
      " [42 58  8  4  0]\n",
      " [37 95 48 54 43]]\n"
     ]
    }
   ],
   "source": [
    "#matrix with random integer value\n",
    "a = np.random.randint(100,size=(4,5))\n",
    "print(a)"
   ]
  },
  {
   "cell_type": "code",
   "execution_count": 27,
   "id": "2f0e5b64",
   "metadata": {},
   "outputs": [],
   "source": [
    "transpose_a = np.transpose(a)"
   ]
  },
  {
   "cell_type": "code",
   "execution_count": 28,
   "id": "cb264131",
   "metadata": {},
   "outputs": [
    {
     "name": "stdout",
     "output_type": "stream",
     "text": [
      "[[19 24 42 37]\n",
      " [61 95 58 95]\n",
      " [11  9  8 48]\n",
      " [72 99  4 54]\n",
      " [20 30  0 43]]\n"
     ]
    }
   ],
   "source": [
    "print(transpose_a)"
   ]
  },
  {
   "cell_type": "code",
   "execution_count": null,
   "id": "10ab166d",
   "metadata": {},
   "outputs": [],
   "source": []
  }
 ],
 "metadata": {
  "kernelspec": {
   "display_name": "Python 3 (ipykernel)",
   "language": "python",
   "name": "python3"
  },
  "language_info": {
   "codemirror_mode": {
    "name": "ipython",
    "version": 3
   },
   "file_extension": ".py",
   "mimetype": "text/x-python",
   "name": "python",
   "nbconvert_exporter": "python",
   "pygments_lexer": "ipython3",
   "version": "3.11.3"
  }
 },
 "nbformat": 4,
 "nbformat_minor": 5
}
